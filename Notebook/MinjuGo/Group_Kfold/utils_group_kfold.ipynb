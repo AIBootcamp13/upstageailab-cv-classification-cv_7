{
 "cells": [
  {
   "cell_type": "code",
   "execution_count": 1,
   "id": "73f4f6f9",
   "metadata": {},
   "outputs": [
    {
     "name": "stdout",
     "output_type": "stream",
     "text": [
      "누락 이미지 개수: 0\n"
     ]
    }
   ],
   "source": [
    "import pandas as pd\n",
    "import os\n",
    "\n",
    "ROOT_DIR = '/workspace/upstageailab-cv-classification-cv_7'\n",
    "train_csv = pd.read_csv(f\"{ROOT_DIR}/data/train.csv\")\n",
    "\n",
    "missing = []\n",
    "for img_id in train_csv['ID']:\n",
    "    if not os.path.exists(f'{ROOT_DIR}/data/train/{img_id}'):\n",
    "        missing.append(img_id)\n",
    "print(f'누락 이미지 개수: {len(missing)}')\n",
    "if missing:\n",
    "    print(missing[:10])  # 누락된 파일명 샘플"
   ]
  },
  {
   "cell_type": "code",
   "execution_count": 2,
   "id": "e7728313",
   "metadata": {},
   "outputs": [],
   "source": [
    "import pandas as pd\n",
    "import os\n",
    "import torch\n",
    "from torchvision import models, transforms\n",
    "from PIL import Image\n",
    "import numpy as np\n",
    "from sklearn.cluster import KMeans\n",
    "from sklearn.model_selection import GroupKFold\n",
    "\n",
    "ROOT_DIR = '/workspace/upstageailab-cv-classification-cv_7'\n",
    "\n",
    "def load_dataframe():\n",
    "    return pd.read_csv(f\"{ROOT_DIR}/data/train.csv\")\n",
    "\n",
    "def get_feature_extractor():\n",
    "    model = models.resnet18(pretrained=True)\n",
    "    model.fc = torch.nn.Identity()\n",
    "    model.eval()\n",
    "    transform = transforms.Compose([\n",
    "        transforms.Resize((224, 224)),\n",
    "        transforms.ToTensor()\n",
    "    ])\n",
    "    return model, transform\n",
    "\n",
    "def get_feature(img_path, model, transform):\n",
    "    # 이미지가 없는 경우 None 반환\n",
    "    if not os.path.exists(img_path):\n",
    "        return None\n",
    "    img = Image.open(img_path).convert('RGB')\n",
    "    tensor = transform(img).unsqueeze(0)\n",
    "    with torch.no_grad():\n",
    "        feature = model(tensor).squeeze().numpy()\n",
    "    return feature\n",
    "\n",
    "def extract_features(train_df, model, transform):\n",
    "    features = []\n",
    "    missing_imgs = []\n",
    "    for img_id in train_df['ID']:\n",
    "        img_path = os.path.join(ROOT_DIR, \"data\", \"train\", img_id)\n",
    "        if not os.path.exists(img_path):\n",
    "            missing_imgs.append(img_id)\n",
    "            features.append(np.zeros(512))  # 임시 zero vector로 대체(옵션)\n",
    "            continue\n",
    "        features.append(get_feature(img_path, model, transform))\n",
    "    print(f\"누락 이미지 개수(추출단계): {len(missing_imgs)}\")\n",
    "    if missing_imgs:\n",
    "        print(missing_imgs[:10])\n",
    "    return np.stack(features)\n"
   ]
  },
  {
   "cell_type": "code",
   "execution_count": 3,
   "id": "34fe1bb2",
   "metadata": {},
   "outputs": [
    {
     "name": "stderr",
     "output_type": "stream",
     "text": [
      "/opt/conda/lib/python3.10/site-packages/torchvision/models/_utils.py:208: UserWarning: The parameter 'pretrained' is deprecated since 0.13 and may be removed in the future, please use 'weights' instead.\n",
      "  warnings.warn(\n",
      "/opt/conda/lib/python3.10/site-packages/torchvision/models/_utils.py:223: UserWarning: Arguments other than a weight enum or `None` for 'weights' are deprecated since 0.13 and may be removed in the future. The current behavior is equivalent to passing `weights=ResNet18_Weights.IMAGENET1K_V1`. You can also use `weights=ResNet18_Weights.DEFAULT` to get the most up-to-date weights.\n",
      "  warnings.warn(msg)\n"
     ]
    },
    {
     "name": "stdout",
     "output_type": "stream",
     "text": [
      "누락 이미지 개수(추출단계): 0\n"
     ]
    }
   ],
   "source": [
    "df = load_dataframe()\n",
    "model, transform = get_feature_extractor()\n",
    "features = extract_features(df, model, transform)  # 누락 파일 수 실시간 체크!"
   ]
  },
  {
   "cell_type": "code",
   "execution_count": 4,
   "id": "184cc561",
   "metadata": {},
   "outputs": [
    {
     "name": "stdout",
     "output_type": "stream",
     "text": [
      "누락 이미지 개수 (group_kfold): 0\n"
     ]
    }
   ],
   "source": [
    "import pandas as pd\n",
    "import os\n",
    "\n",
    "ROOT_DIR = '/workspace/upstageailab-cv-classification-cv_7'\n",
    "group_csv = pd.read_csv(f'{ROOT_DIR}/data/train_group_kfold.csv')\n",
    "\n",
    "missing = []\n",
    "for img_id in group_csv['ID']:\n",
    "    if not os.path.exists(f'{ROOT_DIR}/data/train/{img_id}'):\n",
    "        missing.append(img_id)\n",
    "print(f'누락 이미지 개수 (group_kfold): {len(missing)}')\n",
    "if missing:\n",
    "    print(missing[:10])\n"
   ]
  },
  {
   "cell_type": "code",
   "execution_count": 5,
   "id": "3e46c06a",
   "metadata": {},
   "outputs": [
    {
     "name": "stdout",
     "output_type": "stream",
     "text": [
      "검색된 파일: ['/workspace/upstageailab-cv-classification-cv_7/data/train/00ec594b7cc89183.jpg']\n"
     ]
    }
   ],
   "source": [
    "import glob\n",
    "ROOT_DIR = '/workspace/upstageailab-cv-classification-cv_7'\n",
    "search = glob.glob(f'{ROOT_DIR}/data/train/00ec594b7cc89183*')\n",
    "print('검색된 파일:', search)"
   ]
  },
  {
   "cell_type": "code",
   "execution_count": 1,
   "id": "4bf3ed04",
   "metadata": {},
   "outputs": [
    {
     "name": "stdout",
     "output_type": "stream",
     "text": [
      "타입: <class 'pandas.core.frame.DataFrame'>\n",
      "컬럼: ['ID', 'target', 'group', 'kfold']\n",
      "샘플:\n",
      "                     ID  target  group  kfold\n",
      "0  002f99746285dfdd.jpg      16     34      1\n",
      "1  008ccd231e1fea5d.jpg      10     14      4\n",
      "2  008f5911bfda7695.jpg      10     25      3\n",
      "3  009235e4c9c07af5.jpg       4      8      2\n",
      "4  00b2f44967580c74.jpg      16     37      1\n"
     ]
    }
   ],
   "source": [
    "import pandas as pd\n",
    "df = pd.read_csv('/workspace/upstageailab-cv-classification-cv_7/data/train_group_kfold.csv')\n",
    "print(f\"타입: {type(df)}\")\n",
    "print(f\"컬럼: {df.columns.tolist()}\")\n",
    "print(f\"샘플:\\n{df.head()}\")"
   ]
  },
  {
   "cell_type": "code",
   "execution_count": 2,
   "id": "57a3c55e",
   "metadata": {},
   "outputs": [
    {
     "name": "stdout",
     "output_type": "stream",
     "text": [
      "클래스 분포: {16: 100, 10: 100, 0: 100, 3: 100, 12: 100, 8: 100, 2: 100, 11: 100, 7: 100, 9: 100, 15: 100, 5: 100, 4: 100, 6: 100, 13: 74, 14: 50, 1: 46}\n",
      "밸런싱 후 분포: {16: 100, 9: 100, 14: 100, 13: 100, 6: 100, 4: 100, 5: 100, 15: 100, 7: 100, 10: 100, 11: 100, 2: 100, 8: 100, 12: 100, 3: 100, 0: 100, 1: 100}\n",
      "반환값 타입 : <class 'pandas.core.frame.DataFrame'>\n"
     ]
    }
   ],
   "source": [
    "class_counts = df[\"target\"].value_counts()\n",
    "print(f\"클래스 분포: {dict(class_counts)}\")\n",
    "\n",
    "median_count = class_counts.median()\n",
    "balanced_dfs = []\n",
    "\n",
    "for target_class in class_counts.index:\n",
    "    class_df = df[df[\"target\"] == target_class]\n",
    "    current_count = len(class_df)\n",
    "    \n",
    "    if current_count < median_count:\n",
    "        repeat_factor = int(median_count / current_count)\n",
    "        balanced_dfs.extend([class_df] * repeat_factor)\n",
    "        \n",
    "        remaining = int(median_count % current_count)\n",
    "        if remaining > 0:\n",
    "            balanced_dfs.append(class_df.sample(remaining, replace=True))\n",
    "    else:\n",
    "        balanced_dfs.append(class_df)\n",
    "\n",
    "result_df = pd.concat(balanced_dfs, ignore_index=True)\n",
    "print(f\"밸런싱 후 분포: {dict(result_df['target'].value_counts())}\")\n",
    "print(f\"반환값 타입 : {type(result_df)}\")"
   ]
  },
  {
   "cell_type": "code",
   "execution_count": 4,
   "id": "ac4ca3e5",
   "metadata": {},
   "outputs": [
    {
     "name": "stdout",
     "output_type": "stream",
     "text": [
      "ROOT_DIR: /workspace/upstageailab-cv-classification-cv_7\n",
      "artifacts 경로: /workspace/upstageailab-cv-classification-cv_7/artifacts\n"
     ]
    }
   ],
   "source": [
    "import os\n",
    "\n",
    "# 코드에서 ROOT_DIR 확인\n",
    "ROOT_DIR = '/workspace/upstageailab-cv-classification-cv_7'\n",
    "print(f\"ROOT_DIR: {ROOT_DIR}\")\n",
    "print(f\"artifacts 경로: {os.path.join(ROOT_DIR, 'artifacts')}\")"
   ]
  }
 ],
 "metadata": {
  "kernelspec": {
   "display_name": "base",
   "language": "python",
   "name": "python3"
  },
  "language_info": {
   "codemirror_mode": {
    "name": "ipython",
    "version": 3
   },
   "file_extension": ".py",
   "mimetype": "text/x-python",
   "name": "python",
   "nbconvert_exporter": "python",
   "pygments_lexer": "ipython3",
   "version": "3.10.13"
  }
 },
 "nbformat": 4,
 "nbformat_minor": 5
}
